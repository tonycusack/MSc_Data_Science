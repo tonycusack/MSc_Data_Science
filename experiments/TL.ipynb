{
 "cells": [
  {
   "cell_type": "code",
   "execution_count": 3,
   "metadata": {},
   "outputs": [
    {
     "name": "stderr",
     "output_type": "stream",
     "text": [
      "c:\\Users\\tonyc\\anaconda3\\envs\\tensorflow\\lib\\site-packages\\tqdm\\auto.py:22: TqdmWarning: IProgress not found. Please update jupyter and ipywidgets. See https://ipywidgets.readthedocs.io/en/stable/user_install.html\n",
      "  from .autonotebook import tqdm as notebook_tqdm\n"
     ]
    }
   ],
   "source": [
    "import numpy as np\n",
    "from tensorflow.keras.datasets import mnist\n",
    "from tensorflow.keras.models import Sequential\n",
    "from tensorflow.keras.layers import Conv2D\n",
    "from tensorflow.keras.layers import MaxPool2D\n",
    "from tensorflow.keras.layers import Flatten\n",
    "from tensorflow.keras.layers import Dropout\n",
    "from tensorflow.keras.layers import Dense, BatchNormalization\n",
    "import matplotlib.pyplot as plt \n",
    "import sklearn.model_selection\n",
    "from sklearn.model_selection import train_test_split\n",
    "from random import random, shuffle\n",
    "from sklearn.metrics import accuracy_score\n",
    "from python_speech_features import mfcc\n",
    "from braindecode.models import Deep4Net"
   ]
  },
  {
   "cell_type": "code",
   "execution_count": 4,
   "metadata": {},
   "outputs": [],
   "source": [
    "def tran(x, label1):\n",
    "    if x == label1:\n",
    "        return 1\n",
    "    else:\n",
    "        return 0\n",
    "\n",
    "def get_data(type_of_data = 'imagined', subject_num = 1):\n",
    "    '''Gets the data from the directory given the type of data\n",
    "    and which subject to get it from. Returns an array (raw_eeg, labels)'''\n",
    "    raw_eeg, all_labels = np.genfromtxt(f'{type_of_data}/labelled/{type_of_data}{subject_num}-labelled.csv', delimiter=',', dtype='float')[1:, 0:14], np.genfromtxt(f'{type_of_data}/labelled/{type_of_data}{subject_num}-labelled.csv', delimiter=',', dtype='str')[1::256, -1]\n",
    "    raw_eeg = raw_eeg.reshape(1000, 256, 14)\n",
    "    return raw_eeg, all_labels"
   ]
  },
  {
   "cell_type": "code",
   "execution_count": 5,
   "metadata": {},
   "outputs": [],
   "source": [
    "label_pairs = [('goose', 'moose'), ('moose', 'spruce'),\n",
    "                ('moose', 'caterpillar'), ('juice', 'waterfowl'),\n",
    "                ('hedgehog', 'goose'), ('night', 'knight'), ('date', 'juice'), \n",
    "                ('hedgehog', 'waterfowl'), ('juice', 'ambassador')]"
   ]
  },
  {
   "cell_type": "code",
   "execution_count": null,
   "metadata": {},
   "outputs": [],
   "source": []
  }
 ],
 "metadata": {
  "kernelspec": {
   "display_name": "Python 3.9.7 ('tensorflow')",
   "language": "python",
   "name": "python3"
  },
  "language_info": {
   "codemirror_mode": {
    "name": "ipython",
    "version": 3
   },
   "file_extension": ".py",
   "mimetype": "text/x-python",
   "name": "python",
   "nbconvert_exporter": "python",
   "pygments_lexer": "ipython3",
   "version": "3.9.7"
  },
  "orig_nbformat": 4,
  "vscode": {
   "interpreter": {
    "hash": "d9760ae3c551063bac6096e9461e7dda6582f1070da53dbf39b3f43e24175b84"
   }
  }
 },
 "nbformat": 4,
 "nbformat_minor": 2
}
